{
 "cells": [
  {
   "cell_type": "code",
   "execution_count": 5,
   "metadata": {},
   "outputs": [
    {
     "name": "stdout",
     "output_type": "stream",
     "text": [
      "Enterer les numéros des reines\n",
      "8\n",
      "['Q', 1, 1, 1, 1, 1, 1, 1]\n",
      "[1, 1, 1, 1, 'Q', 1, 1, 1]\n",
      "[1, 1, 1, 1, 1, 1, 1, 'Q']\n",
      "[1, 1, 1, 1, 1, 'Q', 1, 1]\n",
      "[1, 1, 'Q', 1, 1, 1, 1, 1]\n",
      "[1, 1, 1, 1, 1, 1, 'Q', 1]\n",
      "[1, 'Q', 1, 1, 1, 1, 1, 1]\n",
      "[1, 1, 1, 'Q', 1, 1, 1, 1]\n"
     ]
    }
   ],
   "source": [
    "\n",
    "print (\"Enterer les numéros des reines\")\n",
    "N = int(input())\n",
    "\n",
    "\n",
    "Echiquier = [[0]*N for _ in range(N)] # tous les colonnes de l'Echiquier va prendre des valeurs égale à 0\n",
    "\n",
    "def placer_reine(i, j):\n",
    "    for k in range(0,N):#chercher dans les colonnes et les lignes \n",
    "        if Echiquier[i][k]=='Q' or Echiquier[k][j]=='Q':#chercher s'il ya une reine dans une colonne ou dans une ligne \n",
    "            return True   # si elle  exicte retourner vrai\n",
    "        Echiquier[i][k]=1 # et remplacer la ligne et la colonne avec des 1 \n",
    "    \n",
    "    for k in range(0,N): #chercher dans les diagonales\n",
    "        for l in range(0,N): \n",
    "            if (k+l==i+j) or (k-l==i-j):#chercher s'il ya une reine dans les diagonales enhaut à gauche jusqu'en bas à droite ou d'haut à droit jusqu'à en bas à gauche \n",
    "                if Echiquier[k][l]=='Q': #si elle  exicte retourner vrai\n",
    "                    return True    \n",
    "    return False\n",
    "\n",
    "\n",
    "    \n",
    "def placer_toutes_reines(n):\n",
    "    if n==0: # si n=0 alors le solution \n",
    "        return True\n",
    "    for i in range(0,N): #parcour dans tout l'échiquier\n",
    "        for j in range(0,N):\n",
    "            if (not(placer_reine(i,j))) and (Echiquier[i][j]!='Q'):#verfication sil ya une place vide pour placer la reine \n",
    "                Echiquier[i][j] ='Q'\n",
    "                if placer_toutes_reines(n-1)==True:  #verification si on peut placer la prochaine reine ou non \n",
    "                    return True\n",
    "                Echiquier[i][j] = 0 #placer le rest de l'échequier par 0 \n",
    "\n",
    "    return False\n",
    "\n",
    "    \n",
    "\n",
    "placer_toutes_reines(N)\n",
    "for i in Echiquier:\n",
    "    print (i)\n",
    "    \n",
    "    "
   ]
  },
  {
   "cell_type": "code",
   "execution_count": null,
   "metadata": {},
   "outputs": [],
   "source": []
  }
 ],
 "metadata": {
  "kernelspec": {
   "display_name": "Python 3",
   "language": "python",
   "name": "python3"
  },
  "language_info": {
   "codemirror_mode": {
    "name": "ipython",
    "version": 3
   },
   "file_extension": ".py",
   "mimetype": "text/x-python",
   "name": "python",
   "nbconvert_exporter": "python",
   "pygments_lexer": "ipython3",
   "version": "3.8.3"
  }
 },
 "nbformat": 4,
 "nbformat_minor": 4
}
