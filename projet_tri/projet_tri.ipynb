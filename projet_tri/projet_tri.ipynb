{
 "cells": [
  {
   "cell_type": "markdown",
   "metadata": {},
   "source": [
    "# Tri par sélection"
   ]
  },
  {
   "cell_type": "code",
   "execution_count": 13,
   "metadata": {},
   "outputs": [],
   "source": [
    "def tri_selection(tab):\n",
    "   for i in range(len(tab)):\n",
    "      # Trouver le min\n",
    "       min = i\n",
    "       for j in range(i+1, len(tab)):\n",
    "           if tab[min] > tab[j]:\n",
    "               min = j\n",
    "                \n",
    "       tmp = tab[i]\n",
    "       tab[i] = tab[min]\n",
    "       tab[min] = tmp\n",
    "   return tab\n"
   ]
  },
  {
   "cell_type": "markdown",
   "metadata": {},
   "source": [
    "# Tri par bulle"
   ]
  },
  {
   "cell_type": "code",
   "execution_count": 14,
   "metadata": {},
   "outputs": [],
   "source": [
    "def tri_bulle(tab):\n",
    "    n = len(tab)\n",
    "    # Traverser tous les éléments du tableau\n",
    "    for i in range(n):\n",
    "        for j in range(0, n-i-1):\n",
    "            # échanger si l'élément trouvé est plus grand que le suivant\n",
    "            if tab[j] > tab[j+1] :\n",
    "                tab[j], tab[j+1] = tab[j+1], tab[j]\n",
    "    return tab"
   ]
  },
  {
   "cell_type": "markdown",
   "metadata": {},
   "source": [
    "# Tri par insertion"
   ]
  },
  {
   "cell_type": "code",
   "execution_count": 15,
   "metadata": {},
   "outputs": [],
   "source": [
    "def tri_insertion(tab): \n",
    "    # Parcour de 1 à la taille du tab\n",
    "    for i in range(1, len(tab)): \n",
    "        k = tab[i] \n",
    "        j = i-1\n",
    "        while j >= 0 and k < tab[j] : \n",
    "                tab[j + 1] = tab[j] \n",
    "                j -= 1\n",
    "        tab[j + 1] = k\n",
    "    return tab"
   ]
  },
  {
   "cell_type": "markdown",
   "metadata": {},
   "source": [
    "# Tri par fusion"
   ]
  },
  {
   "cell_type": "code",
   "execution_count": 16,
   "metadata": {},
   "outputs": [],
   "source": [
    "def tri_fussion(tab):\n",
    "    \n",
    "    if len(tab)>1:\n",
    "        mid = len(tab)//2\n",
    "        left = tab[:mid]\n",
    "        right = tab[mid:]\n",
    "\n",
    "        tri_fussion(left)\n",
    "        tri_fussion(right)\n",
    "\n",
    "        i=0\n",
    "        j=0\n",
    "        k=0\n",
    "        while i < len(left) and j < len(right):\n",
    "            if left[i] <= right[j]:\n",
    "                tab[k]=left[i]\n",
    "                i=i+1\n",
    "            else:\n",
    "                tab[k]=right[j]\n",
    "                j=j+1\n",
    "            k=k+1\n",
    "\n",
    "        while i < len(left):\n",
    "            tab[k]=left[i]\n",
    "            i=i+1\n",
    "            k=k+1\n",
    "\n",
    "        while j < len(right):\n",
    "            tab[k]=right[j]\n",
    "            j=j+1\n",
    "            k=k+1\n",
    "        return tab"
   ]
  },
  {
   "cell_type": "markdown",
   "metadata": {},
   "source": [
    "# Tri rapide"
   ]
  },
  {
   "cell_type": "code",
   "execution_count": 24,
   "metadata": {},
   "outputs": [],
   "source": [
    "def tri_rapide(tab,fin,debut=0):\n",
    "\n",
    "    def triRapide(tab,fin,debut=0):\n",
    "\n",
    "        def division(tab, debut, fin):\n",
    "\n",
    "            i = (debut-1)        \n",
    "\n",
    "            pivot = tab[fin]   \n",
    "\n",
    "            for j in range(debut, fin):\n",
    "\n",
    "                if tab[j] <= pivot:\n",
    "\n",
    "                    i = i+1\n",
    "\n",
    "                    tab[i], tab[j] = tab[j], tab[i]\n",
    "\n",
    "            tab[i+1], tab[fin] = tab[fin], tab[i+1]\n",
    "\n",
    "            return (i+1)\n",
    "\n",
    "        if len(tab) == 1:\n",
    "\n",
    "            return tab\n",
    "\n",
    "        if debut < fin:\n",
    "\n",
    "            pivot = division(tab, debut, fin)\n",
    "\n",
    "            triRapide(tab, debut, pivot-1)\n",
    "\n",
    "            triRapide(tab, pivot+1, fin)\n",
    "\n",
    "    return tab\n",
    "    "
   ]
  },
  {
   "cell_type": "markdown",
   "metadata": {},
   "source": [
    "# Test "
   ]
  },
  {
   "cell_type": "code",
   "execution_count": 18,
   "metadata": {},
   "outputs": [],
   "source": [
    "tab = [98, 22, 15, 32, 2, 74, 63, 70]\n",
    " "
   ]
  },
  {
   "cell_type": "markdown",
   "metadata": {},
   "source": [
    "## Test Tri par sélection"
   ]
  },
  {
   "cell_type": "code",
   "execution_count": 19,
   "metadata": {},
   "outputs": [
    {
     "name": "stdout",
     "output_type": "stream",
     "text": [
      "taleau trié par tri par séléction : [2, 15, 22, 32, 63, 70, 74, 98]\n"
     ]
    }
   ],
   "source": [
    "print(\"taleau trié par tri par séléction :\",tri_selection(tab))\n",
    "\n"
   ]
  },
  {
   "cell_type": "markdown",
   "metadata": {},
   "source": [
    "## Test de Tri à bulle"
   ]
  },
  {
   "cell_type": "code",
   "execution_count": 20,
   "metadata": {},
   "outputs": [
    {
     "name": "stdout",
     "output_type": "stream",
     "text": [
      "tableau trié par tri à bulle: [2, 15, 22, 32, 63, 70, 74, 98]\n"
     ]
    }
   ],
   "source": [
    "print(\"tableau trié par tri à bulle:\",tri_bulle(tab))\n"
   ]
  },
  {
   "cell_type": "markdown",
   "metadata": {},
   "source": [
    "# Test de Tri par insertion"
   ]
  },
  {
   "cell_type": "code",
   "execution_count": 21,
   "metadata": {},
   "outputs": [
    {
     "name": "stdout",
     "output_type": "stream",
     "text": [
      "tableau trié par tri par insertion: [2, 15, 22, 32, 63, 70, 74, 98]\n"
     ]
    }
   ],
   "source": [
    "print(\"tableau trié par tri par insertion:\",tri_insertion(tab))\n"
   ]
  },
  {
   "cell_type": "markdown",
   "metadata": {},
   "source": [
    "## Test Tri par fusion"
   ]
  },
  {
   "cell_type": "code",
   "execution_count": 22,
   "metadata": {},
   "outputs": [
    {
     "name": "stdout",
     "output_type": "stream",
     "text": [
      "tableau trié par tri par fusion : [2, 15, 22, 32, 63, 70, 74, 98]\n"
     ]
    }
   ],
   "source": [
    "print(\"tableau trié par tri par fusion :\",tri_fussion(tab))\n"
   ]
  },
  {
   "cell_type": "markdown",
   "metadata": {},
   "source": [
    "## Test Tri rapide"
   ]
  },
  {
   "cell_type": "code",
   "execution_count": 25,
   "metadata": {},
   "outputs": [
    {
     "name": "stdout",
     "output_type": "stream",
     "text": [
      "tableau trié par tri rapide : [2, 15, 22, 32, 63, 70, 74, 98]\n"
     ]
    }
   ],
   "source": [
    "n=len(tab)-1\n",
    "print(\"tableau trié par tri rapide :\",tri_rapide(tab,n))\n"
   ]
  },
  {
   "cell_type": "markdown",
   "metadata": {},
   "source": [
    "# Test de performance:"
   ]
  },
  {
   "cell_type": "code",
   "execution_count": 31,
   "metadata": {},
   "outputs": [],
   "source": [
    "from datetime import *\n",
    "import matplotlib.pyplot as plt\n",
    "from numpy import random as rd\n",
    "\n",
    "t=datetime.now()\n",
    "tps_s=[]\n",
    "tab_=[]\n",
    "tabi=[]\n",
    "\n",
    "a=2000\n",
    "b=5000\n",
    "c=500\n"
   ]
  },
  {
   "cell_type": "markdown",
   "metadata": {},
   "source": [
    "## test pour tri par séléction"
   ]
  },
  {
   "cell_type": "code",
   "execution_count": 32,
   "metadata": {},
   "outputs": [
    {
     "name": "stdout",
     "output_type": "stream",
     "text": [
      "temps necessaire d'excution: [1.447441, 2.965097, 5.43061, 8.18902, 11.574302, 17.073398, 23.299012]\n",
      "nombre: [2000, 2500, 3000, 3500, 4000, 4500, 5000]\n"
     ]
    },
    {
     "data": {
      "image/png": "[encoded data removed]",
      "text/plain": [
       "<Figure size 432x288 with 1 Axes>"
      ]
     },
     "metadata": {
      "needs_background": "light"
     },
     "output_type": "display_data"
    }
   ],
   "source": [
    "for i in range(a,b+1,c):\n",
    "    tabi.append(i)\n",
    "    tab=rd.randint(2000, size=(i))\n",
    "    tri_selection(tab)\n",
    "    t1=datetime.now()\n",
    "    deltat=t1-t\n",
    "    temps=deltat.total_seconds()\n",
    "    tps_s.append(temps)\n",
    "    \n",
    "\n",
    "print(\"temps necessaire d'excution:\",tps_s)\n",
    "print(\"nombre:\",tabi)\n",
    "\n",
    "\n",
    "plt.figure()\n",
    "plt.plot(tabi,tps_s,\"red\")\n",
    "plt.title(\"Tri par Selection\")\n",
    "plt.xlabel(\"T\")\n",
    "plt.xlabel(\"N\")\n",
    "plt.grid()\n",
    "plt.show()\n"
   ]
  },
  {
   "cell_type": "markdown",
   "metadata": {},
   "source": [
    "## test pour tri à bulle:\n"
   ]
  },
  {
   "cell_type": "code",
   "execution_count": null,
   "metadata": {},
   "outputs": [],
   "source": [
    "for i in range(a,b+1,c):\n",
    "    tabi.append(i)\n",
    "    tab=rd.randint(2000, size=(i))\n",
    "    tri_bulle(tab)\n",
    "    t1=datetime.now()\n",
    "    deltat=t1-t\n",
    "    temps=deltat.total_seconds()\n",
    "    tps_s.append((temps))\n",
    "    \n",
    "\n",
    "print(\"temps necessaire d'excution:\",tps_s)\n",
    "print(\"nombre:\",tabi)\n",
    "\n",
    "\n",
    "plt.figure()\n",
    "plt.plot(tabi,tps_s,\"red\")\n",
    "plt.title(\"Tri à bulle\")\n",
    "plt.xlabel(\"N\")\n",
    "plt.ylabel(\"T\")\n",
    "plt.grid()\n",
    "plt.show()"
   ]
  },
  {
   "cell_type": "markdown",
   "metadata": {},
   "source": [
    "## test pour tri par insertion:\n"
   ]
  },
  {
   "cell_type": "code",
   "execution_count": null,
   "metadata": {},
   "outputs": [],
   "source": [
    "for i in range(a,b+1,c):\n",
    "    tabi.append(i)\n",
    "    tab=rd.randint(2000, size=(i))\n",
    "    tri_insertion(tab)\n",
    "    t1=datetime.now()\n",
    "    deltat=t1-t\n",
    "    temps=deltat.total_seconds()\n",
    "    tps_s.append((temps))\n",
    "    \n",
    "\n",
    "print(\"temps necessaire d'excution:\",tps_s)\n",
    "print(\"nombre:\",tabi)\n",
    "\n",
    "\n",
    "plt.figure()\n",
    "plt.plot(tabi,tps_s,\"red\")\n",
    "plt.title(\"Tri à bulle\")\n",
    "plt.xlabel(\"N\")\n",
    "plt.ylabel(\"T\")\n",
    "plt.grid()\n",
    "plt.show()\n",
    "\n"
   ]
  },
  {
   "cell_type": "markdown",
   "metadata": {},
   "source": [
    "## test pour tri par fusion:\n"
   ]
  },
  {
   "cell_type": "code",
   "execution_count": null,
   "metadata": {},
   "outputs": [],
   "source": [
    "for i in range(a,b+1,c):\n",
    "    tabi.append(i)\n",
    "    tab=rd.randint(2000, size=(i))\n",
    "    tri_fussion(tab)\n",
    "    t1=datetime.now()\n",
    "    deltat=t1-t\n",
    "    temps=deltat.total_seconds()\n",
    "    tps_s.append(float(temps))\n",
    "    \n",
    "\n",
    "print(\"temps necessaire d'excution:\",tps_s)\n",
    "print(\"nombre:\",tabi)\n",
    "\n",
    "\n",
    "plt.figure()\n",
    "plt.plot(tabi,tps_s,\"red\")\n",
    "plt.title(\"Tri par fussion\")\n",
    "plt.xlabel(\"N\")\n",
    "plt.ylabel(\"T\")\n",
    "plt.grid()\n",
    "plt.show()\n"
   ]
  },
  {
   "cell_type": "markdown",
   "metadata": {},
   "source": [
    "## test pour tri rapide:\n"
   ]
  },
  {
   "cell_type": "code",
   "execution_count": 33,
   "metadata": {},
   "outputs": [
    {
     "name": "stdout",
     "output_type": "stream",
     "text": [
      "temps necessaire d'excution: [1.447441, 2.965097, 5.43061, 8.18902, 11.574302, 17.073398, 23.299012, 23.489685, 23.490685, 23.490685, 23.491689, 23.491689, 23.491689, 23.491689]\n",
      "nombre: [2000, 2500, 3000, 3500, 4000, 4500, 5000, 2000, 2500, 3000, 3500, 4000, 4500, 5000]\n"
     ]
    },
    {
     "data": {
      "image/png": "[encoded data removed]",
      "text/plain": [
       "<Figure size 432x288 with 1 Axes>"
      ]
     },
     "metadata": {
      "needs_background": "light"
     },
     "output_type": "display_data"
    }
   ],
   "source": [
    "for i in range(a,b+1,c):\n",
    "    tabi.append(i)\n",
    "    tab=rd.randint(2000, size=(i))\n",
    "    n=len(tab)-1\n",
    "    tri_rapide(tab,n)\n",
    "    t1=datetime.now()\n",
    "    deltat=t1-t\n",
    "    temps=deltat.total_seconds()\n",
    "    tps_s.append(float(temps))\n",
    "    \n",
    "\n",
    "print(\"temps necessaire d'excution:\",tps_s)\n",
    "print(\"nombre:\",tabi)\n",
    "\n",
    "\n",
    "plt.figure()\n",
    "plt.plot(tabi,tps_s,\"red\")\n",
    "plt.title(\"Tri rapide\")\n",
    "plt.xlabel(\"N\")\n",
    "plt.ylabel(\"T\")\n",
    "plt.grid()\n",
    "plt.show()\n"
   ]
  }
 ],
 "metadata": {
  "kernelspec": {
   "display_name": "Python 3",
   "language": "python",
   "name": "python3"
  },
  "language_info": {
   "codemirror_mode": {
    "name": "ipython",
    "version": 3
   },
   "file_extension": ".py",
   "mimetype": "text/x-python",
   "name": "python",
   "nbconvert_exporter": "python",
   "pygments_lexer": "ipython3",
   "version": "3.8.3"
  }
 },
 "nbformat": 4,
 "nbformat_minor": 4
}
